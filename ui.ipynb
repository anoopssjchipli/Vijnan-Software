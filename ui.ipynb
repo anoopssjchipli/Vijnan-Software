{
 "cells": [
  {
   "cell_type": "code",
   "execution_count": 1,
   "id": "c132225b",
   "metadata": {},
   "outputs": [],
   "source": [
    "from tkinter import *\n",
    "from tkinter import messagebox\n",
    "import json\n",
    "THEME_COLOR = \"#dddddd\"\n",
    "FONT_COLOR = \"#f5a962\""
   ]
  },
  {
   "cell_type": "code",
   "execution_count": 2,
   "id": "f34962bd",
   "metadata": {},
   "outputs": [],
   "source": [
    "class MainInterface:\n",
    "    def __init__(self):\n",
    "        #Creation of Window \n",
    "        self.window = Tk()\n",
    "        self.window.title(\"Vijnan Login\")\n",
    "        self.window.config(padx=20,pady=20,bg=THEME_COLOR)\n",
    "        \n",
    "        #Creation of widgets\n",
    "        #creation Vijnan label\n",
    "        self.score_label = Label(text=\"Vijnan Login\",fg=FONT_COLOR,bg=THEME_COLOR,font=(\"Courier\",30))\n",
    "        self.score_label.grid(row=0,column=1,columnspan=2,padx=20,pady=20)\n",
    "        \n",
    "        #--Email/username text--\n",
    "        self.email_label = Label(text=\"Email:\",font=(\"Courier\",10),fg=\"#125d98\",bg=THEME_COLOR)\n",
    "        self.email_label.grid(column=0,row=1)\n",
    "        \n",
    "        #--Email Entry box--\n",
    "        self.email_entry = Entry(width=50)\n",
    "        self.email_entry.grid(column=1,row=1,columnspan=2)\n",
    "        self.email_entry.focus()\n",
    "        \n",
    "        #--Password text--\n",
    "        self.pass_label = Label(text=\"Password:\",font=(\"Courier\",10),fg=\"#125d98\",bg=THEME_COLOR)\n",
    "        self.pass_label.grid(column=0,row=2)\n",
    "\n",
    "        #--Password Entry box--\n",
    "        self.pass_entry = Entry(width=50)\n",
    "        self.pass_entry.grid(column=1,row=2)\n",
    "        #--Login Button--\n",
    "        self.login_button = Button(text=\"Login\",width=44,command=self.check_credentials)\n",
    "        self.login_button.grid(column=0,row=3,columnspan=2)\n",
    "        \n",
    "        self.window.mainloop()\n",
    "    #Create a password data file of json format\n",
    "    #after user enters username and pass check for authentication\n",
    "    #if its admin redirect him to complete access mode\n",
    "    #if its user redirect to read only mode \n",
    "    def check_credentials(self):\n",
    "        email_input = self.email_entry.get()\n",
    "        password_input = self.pass_entry.get()\n",
    "        correctness = False\n",
    "        \n",
    "        if len(email_input) == 0 or len(password_input) == 0:\n",
    "            messagebox.showwarning(title=\"Caution!\", message=\"Please dont leave any fields empty !\")\n",
    "        else:\n",
    "            with open('data/password.json','r') as pass_data:\n",
    "                data = json.load(pass_data)\n",
    "            for i in data:\n",
    "                if email_input == data[i]['email'] and password_input == data[i]['password']:\n",
    "                    correctness = True\n",
    "                    role = data[i]['role']\n",
    "        \n",
    "            if correctness == True and role=='admin':\n",
    "                messagebox.showinfo(title=\"Login Details\", message=\"Login was Successful. Welcome Admin !\")\n",
    "                self.window.destroy()\n",
    "                %run userview_sample.ipynb\n",
    "            \n",
    "            elif correctness == True and role=='user':\n",
    "                messagebox.showinfo(title=\"Login Details\", message=\"Login was Successful. Welcome User !\")\n",
    "                self.window.destroy()\n",
    "                %run userview_sample_readonly.ipynb\n",
    "            \n",
    "            else:\n",
    "                messagebox.showerror(title=\"Login Details\", message=\"Login failed. Please check your credentials\")\n",
    "            \n",
    "        \n",
    "        "
   ]
  },
  {
   "cell_type": "code",
   "execution_count": 3,
   "id": "4e427e1d",
   "metadata": {},
   "outputs": [
    {
     "data": {
      "text/plain": [
       "'    \\n    for i in data:\\n            if email_input in data[i][\\'email\\'] and password_input in data[i][\\'password\\']:\\n                correctness = True\\n                role = data[i][\\'role\\']\\n            print(role)\\n        if correctness==True and role==\\'admin\\':\\n            print(f\"Email:{email_input}\")\\n            print(f\"\\nPassword:{password_input}\")\\n            print(f\"\\nRole:{role}\")\\n            messagebox.showinfo(title=\"Login Details\", message=\"Login was Successful. Welcome Admin !\")\\n        \\n        elif correctness==True and role==\\'user\\':\\n            print(f\"Email:{email_input}\")\\n            print(f\"\\nPassword:{password_input}\")\\n            print(f\"\\nRole:{role}\")\\n            messagebox.showinfo(title=\"Login Details\", message=\"Login was Successful. Welcome User !\")\\n        \\n        else:\\n            print(\"Email is wrong\")\\n            print(f\"\\nRole:{role}\")\\n            messagebox.showerror(title=\"Login Details\", message=\"Login failed. Please check your credentials\")\\n'"
      ]
     },
     "execution_count": 3,
     "metadata": {},
     "output_type": "execute_result"
    }
   ],
   "source": [
    "'''    \n",
    "    for i in data:\n",
    "            if email_input in data[i]['email'] and password_input in data[i]['password']:\n",
    "                correctness = True\n",
    "                role = data[i]['role']\n",
    "            print(role)\n",
    "        if correctness==True and role=='admin':\n",
    "            print(f\"Email:{email_input}\")\n",
    "            print(f\"\\nPassword:{password_input}\")\n",
    "            print(f\"\\nRole:{role}\")\n",
    "            messagebox.showinfo(title=\"Login Details\", message=\"Login was Successful. Welcome Admin !\")\n",
    "        \n",
    "        elif correctness==True and role=='user':\n",
    "            print(f\"Email:{email_input}\")\n",
    "            print(f\"\\nPassword:{password_input}\")\n",
    "            print(f\"\\nRole:{role}\")\n",
    "            messagebox.showinfo(title=\"Login Details\", message=\"Login was Successful. Welcome User !\")\n",
    "        \n",
    "        else:\n",
    "            print(\"Email is wrong\")\n",
    "            print(f\"\\nRole:{role}\")\n",
    "            messagebox.showerror(title=\"Login Details\", message=\"Login failed. Please check your credentials\")\n",
    "'''"
   ]
  }
 ],
 "metadata": {
  "kernelspec": {
   "display_name": "Python 3",
   "language": "python",
   "name": "python3"
  },
  "language_info": {
   "codemirror_mode": {
    "name": "ipython",
    "version": 3
   },
   "file_extension": ".py",
   "mimetype": "text/x-python",
   "name": "python",
   "nbconvert_exporter": "python",
   "pygments_lexer": "ipython3",
   "version": "3.8.8"
  }
 },
 "nbformat": 4,
 "nbformat_minor": 5
}
