{
 "cells": [
  {
   "cell_type": "code",
   "execution_count": 1,
   "id": "faaf09ae",
   "metadata": {},
   "outputs": [],
   "source": [
    "import json\n",
    "from tkinter import messagebox"
   ]
  },
  {
   "cell_type": "code",
   "execution_count": 20,
   "id": "32ec13d0",
   "metadata": {},
   "outputs": [
    {
     "name": "stdout",
     "output_type": "stream",
     "text": [
      "Cred is wrong\n"
     ]
    }
   ],
   "source": [
    "email_entry = \"aca@gmail.com\"\n",
    "password_entry = \"a12\"\n",
    "\n",
    "correctness = False\n",
    "with open('data/password.json','r') as pass_data:\n",
    "    data = json.load(pass_data)\n",
    "for i in data:\n",
    "    i_email = data[i]['email']\n",
    "    i_pass = data[i]['password']\n",
    "    if email_entry == data[i]['email'] and password_entry == data[i]['password']:\n",
    "        correctness = True\n",
    "        role = data[i]['role']\n",
    "        \n",
    "if correctness==True and role=='admin':\n",
    "    print(\"Email is correct\")\n",
    "    print(\"\\nYour role is admin\")\n",
    "    print(\"Opening with full access\")\n",
    "    #messagebox.showinfo(title=\"Login Details\", message=\"Login was Successful. Welcome Admin !\")\n",
    "elif correctness==True and role=='user':\n",
    "    print(\"Email is correct\")\n",
    "    print(\"\\nYour role is user\")\n",
    "    print(\"Opening with limited access\")  \n",
    "    #messagebox.showinfo(title=\"Login Details\", message=\"Login was Successful. Welcome User !\")\n",
    "    \n",
    "else:\n",
    "    print(\"Cred is wrong\")\n",
    "    #messagebox.showerror(title=\"Login Details\", message=\"Login failed. Please check your credentials\")"
   ]
  },
  {
   "cell_type": "code",
   "execution_count": 3,
   "id": "77db67ea",
   "metadata": {},
   "outputs": [
    {
     "name": "stdout",
     "output_type": "stream",
     "text": [
      "admin\n"
     ]
    }
   ],
   "source": [
    "print(data['Anoop']['role'])"
   ]
  },
  {
   "cell_type": "code",
   "execution_count": 2,
   "id": "7cc374a6",
   "metadata": {},
   "outputs": [],
   "source": [
    "import pandas as pd\n",
    "import numpy as np\n",
    "\n",
    "sd = pd.read_csv(\"data/student_data.csv\",index_col=False)"
   ]
  },
  {
   "cell_type": "code",
   "execution_count": 79,
   "id": "2ce5f94e",
   "metadata": {},
   "outputs": [],
   "source": [
    "q = '1VPCMB01'\n",
    "sd = pd.read_csv('data/file_name.csv',index_col=False)\n",
    "sd2 = sd[sd['Student ID']!=q]\n",
    "sd2.to_csv('data/file_name.csv', index=False)"
   ]
  },
  {
   "cell_type": "code",
   "execution_count": 3,
   "id": "ea56e7dc",
   "metadata": {},
   "outputs": [
    {
     "name": "stdout",
     "output_type": "stream",
     "text": [
      "['1VSPCMS07', 'Anoop', 'Chipli', 'Science-PCMS']\n",
      "['1VCEABC21', 'Jonathan', 'Joestar', 'Commerce-EABC']\n",
      "['1VPCMB', 'Mark', 'Lee', 'Science-PCMB']\n",
      "['1VCEABS', 'John', 'Doe', 'Commerce-EABS']\n"
     ]
    }
   ],
   "source": [
    "new_t = []\n",
    "for i in range(len(sd)):\n",
    "    for j in sd:\n",
    "        new_t.append(sd[j][i])\n",
    "    print(new_t)\n",
    "    new_t = []"
   ]
  },
  {
   "cell_type": "code",
   "execution_count": 25,
   "id": "8b23881c",
   "metadata": {},
   "outputs": [
    {
     "name": "stdout",
     "output_type": "stream",
     "text": [
      "['1VSPCMS07', 'Anoop', 'Chipli', 'Science-PCMS']\n"
     ]
    }
   ],
   "source": [
    "q = 'Anoop'\n",
    "new_v = []\n",
    "correctness = True\n",
    "for i in range(len(sd)):\n",
    "    for j in sd:\n",
    "        new_v.append(sd[j][i])\n",
    "    if q in new_v:\n",
    "        print(new_v)\n",
    "    new_v = []"
   ]
  },
  {
   "cell_type": "code",
   "execution_count": 23,
   "id": "54e585ec",
   "metadata": {},
   "outputs": [
    {
     "name": "stdout",
     "output_type": "stream",
     "text": [
      "It exists\n"
     ]
    }
   ],
   "source": [
    "sample = ['1VSPCMS07', 'Anoop', 'Chipli', 'Science-PCMS']\n",
    "if q in sample:\n",
    "    print(\"It exists\")\n",
    "else:\n",
    "    print(\"Its not\")"
   ]
  },
  {
   "cell_type": "code",
   "execution_count": 20,
   "id": "39081c0b",
   "metadata": {},
   "outputs": [
    {
     "name": "stdout",
     "output_type": "stream",
     "text": [
      "  Student ID First Name Last Name         Stream\n",
      "0   1VSEAB23     Julius    Caesar  Commerce-EABS\n"
     ]
    }
   ],
   "source": [
    "#print(sd)\n",
    "data = {\n",
    "    'Student ID':['1VSEAB23'],\n",
    "    'First Name':['Julius'],\n",
    "    'Last Name':['Caesar'],\n",
    "    'Stream':['Commerce-EABS'],\n",
    "}\n",
    "df2 = pd.DataFrame(data)\n",
    "#print(df2)"
   ]
  },
  {
   "cell_type": "code",
   "execution_count": 29,
   "id": "cf8b9c31",
   "metadata": {},
   "outputs": [],
   "source": [
    "sd = sd.append(df2,ignore_index = True)\n",
    "sd.to_csv('data/student_data.csv', index=False)"
   ]
  },
  {
   "cell_type": "code",
   "execution_count": 32,
   "id": "3a7333fb",
   "metadata": {},
   "outputs": [
    {
     "data": {
      "text/html": [
       "<div>\n",
       "<style scoped>\n",
       "    .dataframe tbody tr th:only-of-type {\n",
       "        vertical-align: middle;\n",
       "    }\n",
       "\n",
       "    .dataframe tbody tr th {\n",
       "        vertical-align: top;\n",
       "    }\n",
       "\n",
       "    .dataframe thead th {\n",
       "        text-align: right;\n",
       "    }\n",
       "</style>\n",
       "<table border=\"1\" class=\"dataframe\">\n",
       "  <thead>\n",
       "    <tr style=\"text-align: right;\">\n",
       "      <th></th>\n",
       "      <th>Student ID</th>\n",
       "      <th>First Name</th>\n",
       "      <th>Last Name</th>\n",
       "      <th>Stream</th>\n",
       "    </tr>\n",
       "  </thead>\n",
       "  <tbody>\n",
       "    <tr>\n",
       "      <th>0</th>\n",
       "      <td>1VCEABC21</td>\n",
       "      <td>Jonathan</td>\n",
       "      <td>Joestar</td>\n",
       "      <td>Commerce-EABC</td>\n",
       "    </tr>\n",
       "    <tr>\n",
       "      <th>1</th>\n",
       "      <td>1VPCMS01</td>\n",
       "      <td>Anoop</td>\n",
       "      <td>Chipli</td>\n",
       "      <td>Science-PCMS</td>\n",
       "    </tr>\n",
       "    <tr>\n",
       "      <th>2</th>\n",
       "      <td>1PCMB01</td>\n",
       "      <td>John</td>\n",
       "      <td>Doe</td>\n",
       "      <td>Science-PCMB</td>\n",
       "    </tr>\n",
       "    <tr>\n",
       "      <th>3</th>\n",
       "      <td>1PCMB02</td>\n",
       "      <td>Sammy</td>\n",
       "      <td>Tong</td>\n",
       "      <td>Science-PCMB</td>\n",
       "    </tr>\n",
       "    <tr>\n",
       "      <th>4</th>\n",
       "      <td>1VSEAB22</td>\n",
       "      <td>Jotaro</td>\n",
       "      <td>Kujo</td>\n",
       "      <td>Commerce-EABS</td>\n",
       "    </tr>\n",
       "    <tr>\n",
       "      <th>5</th>\n",
       "      <td>1VSEAB23</td>\n",
       "      <td>Julius</td>\n",
       "      <td>Caesar</td>\n",
       "      <td>Commerce-EABS</td>\n",
       "    </tr>\n",
       "  </tbody>\n",
       "</table>\n",
       "</div>"
      ],
      "text/plain": [
       "  Student ID First Name Last Name         Stream\n",
       "0  1VCEABC21   Jonathan   Joestar  Commerce-EABC\n",
       "1   1VPCMS01      Anoop    Chipli   Science-PCMS\n",
       "2    1PCMB01       John       Doe   Science-PCMB\n",
       "3    1PCMB02      Sammy      Tong   Science-PCMB\n",
       "4   1VSEAB22     Jotaro      Kujo  Commerce-EABS\n",
       "5   1VSEAB23     Julius    Caesar  Commerce-EABS"
      ]
     },
     "execution_count": 32,
     "metadata": {},
     "output_type": "execute_result"
    }
   ],
   "source": [
    "sd"
   ]
  },
  {
   "cell_type": "code",
   "execution_count": 1,
   "id": "faf4de7e",
   "metadata": {},
   "outputs": [
    {
     "ename": "NameError",
     "evalue": "name 'sd' is not defined",
     "output_type": "error",
     "traceback": [
      "\u001b[1;31m---------------------------------------------------------------------------\u001b[0m",
      "\u001b[1;31mNameError\u001b[0m                                 Traceback (most recent call last)",
      "\u001b[1;32m<ipython-input-1-9bd9864a2fed>\u001b[0m in \u001b[0;36m<module>\u001b[1;34m\u001b[0m\n\u001b[1;32m----> 1\u001b[1;33m \u001b[0msd\u001b[0m \u001b[1;33m=\u001b[0m \u001b[0msd\u001b[0m\u001b[1;33m.\u001b[0m\u001b[0mreplace\u001b[0m\u001b[1;33m(\u001b[0m\u001b[1;34m'Julius'\u001b[0m\u001b[1;33m,\u001b[0m\u001b[1;34m'Agustus'\u001b[0m\u001b[1;33m)\u001b[0m\u001b[1;33m\u001b[0m\u001b[1;33m\u001b[0m\u001b[0m\n\u001b[0m\u001b[0;32m      2\u001b[0m \u001b[0msd\u001b[0m\u001b[1;33m.\u001b[0m\u001b[0mto_csv\u001b[0m\u001b[1;33m(\u001b[0m\u001b[1;34m'data/student_data.csv'\u001b[0m\u001b[1;33m,\u001b[0m \u001b[0mindex\u001b[0m\u001b[1;33m=\u001b[0m\u001b[1;32mFalse\u001b[0m\u001b[1;33m)\u001b[0m\u001b[1;33m\u001b[0m\u001b[1;33m\u001b[0m\u001b[0m\n",
      "\u001b[1;31mNameError\u001b[0m: name 'sd' is not defined"
     ]
    }
   ],
   "source": [
    "sd = sd.replace('Julius','Agustus')\n",
    "sd.to_csv('data/student_data.csv', index=False)"
   ]
  },
  {
   "cell_type": "code",
   "execution_count": 3,
   "id": "8eeccef9",
   "metadata": {},
   "outputs": [
    {
     "data": {
      "text/html": [
       "<div>\n",
       "<style scoped>\n",
       "    .dataframe tbody tr th:only-of-type {\n",
       "        vertical-align: middle;\n",
       "    }\n",
       "\n",
       "    .dataframe tbody tr th {\n",
       "        vertical-align: top;\n",
       "    }\n",
       "\n",
       "    .dataframe thead th {\n",
       "        text-align: right;\n",
       "    }\n",
       "</style>\n",
       "<table border=\"1\" class=\"dataframe\">\n",
       "  <thead>\n",
       "    <tr style=\"text-align: right;\">\n",
       "      <th></th>\n",
       "      <th>Student ID</th>\n",
       "      <th>First Name</th>\n",
       "      <th>Last Name</th>\n",
       "      <th>Stream</th>\n",
       "    </tr>\n",
       "  </thead>\n",
       "  <tbody>\n",
       "    <tr>\n",
       "      <th>0</th>\n",
       "      <td>1VCEABC21</td>\n",
       "      <td>Jonathan</td>\n",
       "      <td>Joestar</td>\n",
       "      <td>Commerce-EABC</td>\n",
       "    </tr>\n",
       "    <tr>\n",
       "      <th>1</th>\n",
       "      <td>1VPCMS01</td>\n",
       "      <td>Anoop</td>\n",
       "      <td>Chipli</td>\n",
       "      <td>Science-PCMS</td>\n",
       "    </tr>\n",
       "    <tr>\n",
       "      <th>2</th>\n",
       "      <td>1PCMB01</td>\n",
       "      <td>John</td>\n",
       "      <td>Doe</td>\n",
       "      <td>Science-PCMB</td>\n",
       "    </tr>\n",
       "    <tr>\n",
       "      <th>3</th>\n",
       "      <td>1PCMB02</td>\n",
       "      <td>Sammy</td>\n",
       "      <td>Tong</td>\n",
       "      <td>Science-PCMB</td>\n",
       "    </tr>\n",
       "    <tr>\n",
       "      <th>4</th>\n",
       "      <td>1VSEAB22</td>\n",
       "      <td>Jotaro</td>\n",
       "      <td>Kujo</td>\n",
       "      <td>Commerce-EABS</td>\n",
       "    </tr>\n",
       "    <tr>\n",
       "      <th>5</th>\n",
       "      <td>1VSEAB21</td>\n",
       "      <td>Julius</td>\n",
       "      <td>Caesar</td>\n",
       "      <td>Commerce-EABS</td>\n",
       "    </tr>\n",
       "  </tbody>\n",
       "</table>\n",
       "</div>"
      ],
      "text/plain": [
       "  Student ID First Name Last Name         Stream\n",
       "0  1VCEABC21   Jonathan   Joestar  Commerce-EABC\n",
       "1   1VPCMS01      Anoop    Chipli   Science-PCMS\n",
       "2    1PCMB01       John       Doe   Science-PCMB\n",
       "3    1PCMB02      Sammy      Tong   Science-PCMB\n",
       "4   1VSEAB22     Jotaro      Kujo  Commerce-EABS\n",
       "5   1VSEAB21     Julius    Caesar  Commerce-EABS"
      ]
     },
     "execution_count": 3,
     "metadata": {},
     "output_type": "execute_result"
    }
   ],
   "source": [
    "sd.rows()"
   ]
  },
  {
   "cell_type": "code",
   "execution_count": null,
   "id": "ccd98f0b",
   "metadata": {},
   "outputs": [],
   "source": []
  }
 ],
 "metadata": {
  "kernelspec": {
   "display_name": "Python 3",
   "language": "python",
   "name": "python3"
  },
  "language_info": {
   "codemirror_mode": {
    "name": "ipython",
    "version": 3
   },
   "file_extension": ".py",
   "mimetype": "text/x-python",
   "name": "python",
   "nbconvert_exporter": "python",
   "pygments_lexer": "ipython3",
   "version": "3.8.8"
  }
 },
 "nbformat": 4,
 "nbformat_minor": 5
}
